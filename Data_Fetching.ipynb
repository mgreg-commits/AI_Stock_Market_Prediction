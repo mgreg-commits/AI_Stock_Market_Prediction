{
 "cells": [
  {
   "cell_type": "code",
   "execution_count": 5,
   "metadata": {},
   "outputs": [],
   "source": [
    "import wrds\n",
    "import pandas as pd"
   ]
  },
  {
   "cell_type": "code",
   "execution_count": null,
   "metadata": {},
   "outputs": [
    {
     "name": "stdout",
     "output_type": "stream",
     "text": [
      "WRDS recommends setting up a .pgpass file.\n",
      "You can create this file yourself at any time with the create_pgpass_file() function.\n",
      "Loading library list...\n",
      "Done\n"
     ]
    },
    {
     "name": "stderr",
     "output_type": "stream",
     "text": [
      "C:\\Users\\student\\AppData\\Local\\Temp\\ipykernel_22900\\2462327723.py:37: FutureWarning: DataFrame.fillna with 'method' is deprecated and will raise in a future version. Use obj.ffill() or obj.bfill() instead.\n",
      "  stock_data[numeric_cols] = stock_data[numeric_cols].fillna(method='ffill')\n"
     ]
    },
    {
     "name": "stdout",
     "output_type": "stream",
     "text": [
      "        Date  Stock_ID     Low   High      Close    Volume    Return\n",
      "0 2020-01-02     10026  181.44  185.3  181.67999   88291.0 -0.014056\n",
      "1 2020-01-02     10028  1.3601   1.38       1.38    4400.0  0.022222\n",
      "2 2020-01-02     10032    76.4  77.74      77.23   82114.0  0.003769\n",
      "3 2020-01-02     10044    9.05   9.38       9.05   15450.0 -0.019502\n",
      "4 2020-01-02     10051   26.84  27.78      27.28  233521.0 -0.011952\n"
     ]
    }
   ],
   "source": [
    "# Connect to WRDS\n",
    "conn = wrds.Connection()\n",
    "\n",
    "# Define date range for stock data\n",
    "start_date = \"2020-01-01\"\n",
    "end_date = \"2025-01-01\"\n",
    "\n",
    "# Query stock data from CRSP (WRDS database)\n",
    "query = f\"\"\"\n",
    "    SELECT date, permno, bidlo, askhi, prc, vol, ret\n",
    "    FROM crsp.dsf\n",
    "    WHERE date BETWEEN '{start_date}' AND '{end_date}'\n",
    "\"\"\"\n",
    "stock_data = conn.raw_sql(query)\n",
    "\n",
    "# Convert 'date' column to datetime format\n",
    "stock_data['date'] = pd.to_datetime(stock_data['date'])\n",
    "\n",
    "# Rename columns for clarity\n",
    "stock_data.rename(columns={\n",
    "    \"date\": \"Date\",\n",
    "    \"permno\": \"Stock_ID\",\n",
    "    \"bidlo\": \"Low\",\n",
    "    \"askhi\": \"High\",\n",
    "    \"prc\": \"Close\",\n",
    "    \"vol\": \"Volume\",\n",
    "    \"ret\": \"Return\"\n",
    "}, inplace=True)\n",
    "\n",
    "# Ensure that numeric columns are correctly formatted\n",
    "numeric_cols = [\"Low\", \"High\", \"Close\", \"Volume\", \"Return\"]\n",
    "stock_data[numeric_cols] = stock_data[numeric_cols].apply(pd.to_numeric, errors='coerce')\n",
    "\n",
    "# Handle missing values:\n",
    "# - Forward fill missing prices\n",
    "# - Fill remaining NaNs with rolling mean (only for numeric columns)\n",
    "stock_data[numeric_cols] = stock_data[numeric_cols].fillna(method='ffill')\n",
    "stock_data[numeric_cols] = stock_data[numeric_cols].fillna(stock_data[numeric_cols].rolling(5, min_periods=1).mean())\n",
    "\n",
    "# Save cleaned data to CSV\n",
    "stock_data.to_csv(\"cleaned_stock_data.csv\", index=False)\n",
    "\n",
    "# Display first few rows\n",
    "print(stock_data.head())\n",
    "\n"
   ]
  },
  {
   "cell_type": "code",
   "execution_count": null,
   "metadata": {},
   "outputs": [],
   "source": []
  }
 ],
 "metadata": {
  "kernelspec": {
   "display_name": "Python 3",
   "language": "python",
   "name": "python3"
  },
  "language_info": {
   "codemirror_mode": {
    "name": "ipython",
    "version": 3
   },
   "file_extension": ".py",
   "mimetype": "text/x-python",
   "name": "python",
   "nbconvert_exporter": "python",
   "pygments_lexer": "ipython3",
   "version": "3.11.9"
  }
 },
 "nbformat": 4,
 "nbformat_minor": 2
}
